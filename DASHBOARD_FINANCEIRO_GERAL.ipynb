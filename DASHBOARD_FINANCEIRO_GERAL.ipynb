{
  "nbformat": 4,
  "nbformat_minor": 0,
  "metadata": {
    "colab": {
      "name": "DASHBOARD - FINANCEIRO GERAL",
      "provenance": [],
      "collapsed_sections": []
    },
    "kernelspec": {
      "name": "python3",
      "display_name": "Python 3"
    },
    "language_info": {
      "name": "python"
    }
  },
  "cells": [
    {
      "cell_type": "markdown",
      "source": [
        "# **DASHBOARD DE FINANÇAS - TATUAGENS, CAMISETAS E SALÁRIO**"
      ],
      "metadata": {
        "id": "gFzeSEojFulo"
      }
    },
    {
      "cell_type": "markdown",
      "source": [
        "## **IMPORTS**"
      ],
      "metadata": {
        "id": "fVZkS69hOnmt"
      }
    },
    {
      "cell_type": "code",
      "execution_count": 1,
      "metadata": {
        "colab": {
          "base_uri": "https://localhost:8080/"
        },
        "id": "KIB0F9g_Fino",
        "outputId": "7029b6d3-a185-4444-f28c-74e39f012a64"
      },
      "outputs": [
        {
          "output_type": "stream",
          "name": "stdout",
          "text": [
            "Drive already mounted at /content/drive; to attempt to forcibly remount, call drive.mount(\"/content/drive\", force_remount=True).\n"
          ]
        }
      ],
      "source": [
        "# conecta o colab ao google drive\n",
        "from google.colab import drive\n",
        "drive.mount('/content/drive')"
      ]
    },
    {
      "cell_type": "code",
      "source": [
        "# Cronometra o tempo de execução do programa\n",
        "import time\n",
        "start_script = time.time()"
      ],
      "metadata": {
        "id": "cuXyd5LpF1ij"
      },
      "execution_count": 2,
      "outputs": []
    },
    {
      "cell_type": "code",
      "source": [
        "# Importa as bibliotecas necessárias\n",
        "from datetime import datetime, date\n",
        "import pandas as pd\n",
        "import os\n",
        "import matplotlib.pyplot as plt\n",
        "from matplotlib.pyplot import figure\n",
        "import numpy as np\n",
        "from IPython.display import clear_output \n",
        "import matplotlib.image as mpimg\n",
        "from matplotlib import rcParams\n",
        "from IPython.display import Image, display\n",
        "import seaborn as sns"
      ],
      "metadata": {
        "id": "rCZfWldaF1t7"
      },
      "execution_count": 3,
      "outputs": []
    },
    {
      "cell_type": "code",
      "source": [
        "!pip install dataframe_image\n",
        "clear_output()\n",
        "import dataframe_image as dfi"
      ],
      "metadata": {
        "id": "IDBYnxXfoOP-"
      },
      "execution_count": null,
      "outputs": []
    },
    {
      "cell_type": "markdown",
      "source": [
        "##**FUNÇÕES**"
      ],
      "metadata": {
        "id": "gxaPeHPPOJdi"
      }
    },
    {
      "cell_type": "code",
      "source": [
        "# função pra adicionar texto nos graficos, com o valor pontual:\n",
        "def addlabels(x,y):\n",
        "    for i in range(len(x)):\n",
        "        plt.text(i,round(y[i],2),round(y[i],2), ha = 'center',\n",
        "                 Bbox = dict(facecolor = 'red', alpha =.2))"
      ],
      "metadata": {
        "id": "k6Znd2KKOJu_"
      },
      "execution_count": null,
      "outputs": []
    },
    {
      "cell_type": "code",
      "source": [
        "def plotagem_graficos(option):\n",
        "\n",
        "  # figure size in inches optional\n",
        "  c = 2.6  # multiplicador de tamanho da img\n",
        "  rcParams['figure.figsize'] = 11*c , 8*c\n",
        "  \n",
        "  if option == 't':\n",
        "    complemento = 'Tattoos'\n",
        "  elif option == 'c':\n",
        "    complemento = 'Camisetas'\n",
        "  elif option == 's':\n",
        "    complemento = 'Salario'\n",
        "  elif option == 'g':\n",
        "    complemento = 'Geral'\n",
        "\n",
        "  # read images\n",
        "  img_A = mpimg.imread('/content/drive/MyDrive/Controle_Financeiro_Geral/Imagens/' + complemento + '/Cumulativo_Graph.png')\n",
        "  img_B = mpimg.imread('/content/drive/MyDrive/Controle_Financeiro_Geral/Imagens/' + complemento + '/Somatório_Graph.png')\n",
        "  img_C = mpimg.imread('/content/drive/MyDrive/Controle_Financeiro_Geral/Imagens/' + complemento + '/Ganho_Preju_Graph.png')\n",
        "  # img_D = mpimg.imread('/content/drive/MyDrive/Tattoos/Financeiro/Imagens/tabela.png')\n",
        "\n",
        "  # display images\n",
        "  fig, ax = plt.subplots(1,3)\n",
        "\n",
        "  ax[0].imshow(img_A)\n",
        "  ax[0].axis('off')\n",
        "\n",
        "  ax[1].imshow(img_B)\n",
        "  ax[1].axis('off')\n",
        "\n",
        "  ax[2].imshow(img_C)\n",
        "  ax[2].axis('off')\n"
      ],
      "metadata": {
        "id": "AHzZz5FSv6D2"
      },
      "execution_count": null,
      "outputs": []
    },
    {
      "cell_type": "code",
      "source": [
        "def plotagem_tabelas(option):\n",
        "\n",
        "  if option == 't':\n",
        "    complemento = 'Tattoos'\n",
        "  elif option == 'c':\n",
        "    complemento = 'Camisetas'\n",
        "  elif option == 's':\n",
        "    complemento = 'Salario'\n",
        "  elif option == 'g':\n",
        "    complemento = 'Geral'\n",
        "\n",
        "  display(Image('/content/drive/MyDrive/Controle_Financeiro_Geral/Imagens/' + complemento + '/tabela.png', width=900, height=400))"
      ],
      "metadata": {
        "id": "Pmswan5feZ40"
      },
      "execution_count": null,
      "outputs": []
    },
    {
      "cell_type": "markdown",
      "source": [
        "##**TRATAMENTO DE DADOS**"
      ],
      "metadata": {
        "id": "4gywkix8OMTc"
      }
    },
    {
      "cell_type": "code",
      "source": [
        "# Dados crus para dataframe:\n",
        "caminho_dados_financeiros = '/content/drive/MyDrive/Controle_Financeiro_Geral/Fluxo de Caixa CSV.csv'\n",
        "df_fin = pd.read_csv(caminho_dados_financeiros, sep = ';', header = 0)\n",
        "df_fin = df_fin.fillna('')\n",
        "\n",
        "# removendo espaços vazios:\n",
        "df_fin = df_fin.drop(df_fin[df_fin.Valor == \"R$ 0,00\"].index)\n",
        "\n",
        "# Traduzindo coluna Valor (string) em Valor (decimal):\n",
        "df_fin['Valor'] = df_fin['Valor'].str.replace('R$','',regex=False)\n",
        "df_fin['Valor'] = df_fin['Valor'].str.replace('R$ ','',regex=False)\n",
        "df_fin['Valor'] = df_fin['Valor'].str.replace('- ','-',regex=False)\n",
        "df_fin['Valor'] = df_fin['Valor'].str.replace('.','',regex=False)\n",
        "df_fin['Valor'] = df_fin['Valor'].str.replace(',','.',regex=False)\n",
        "df_fin['Valor'] = df_fin['Valor'].astype(float)\n",
        "\n",
        "# Traduzindo Data (string) em Data (datetime):\n",
        "df_fin['Data'] = pd.to_datetime(df_fin['Data'], format=\"%d/%m/%Y\")\n",
        "\n",
        "# Usando Data como Index:\n",
        "df_fin = df_fin.set_index('Data')\n",
        "\n",
        "# Definindo se foi Ganho ou Custo:\n",
        "df_fin['Ganho_bool'] = 1 * (df_fin['Valor'] >= 0)\n",
        "df_fin['Preju_bool'] = 1 * (df_fin['Valor'] <  0)\n",
        "df_fin['Valor_Ganho'] = df_fin['Valor'] * df_fin['Ganho_bool'] \n",
        "df_fin['Valor_Preju'] = df_fin['Valor'] * df_fin['Preju_bool'] \n",
        "df_fin = df_fin.drop(columns = {'Ganho_bool', 'Preju_bool'})\n",
        "\n",
        "# Display do dataframe:\n",
        "df_fin.head()"
      ],
      "metadata": {
        "id": "4kHO9R7JF1wC"
      },
      "execution_count": null,
      "outputs": []
    },
    {
      "cell_type": "code",
      "source": [
        "# dataframe para tattoo\n",
        "df_fin_t = df_fin.drop(df_fin[df_fin.TCS == \"C\"].index)\n",
        "df_fin_t = df_fin_t.drop(df_fin_t[df_fin_t.TCS == \"S\"].index)\n",
        "# dataframe para camiseta\n",
        "df_fin_c = df_fin.drop(df_fin[df_fin.TCS == \"T\"].index)\n",
        "df_fin_c = df_fin_c.drop(df_fin_c[df_fin_c.TCS == \"S\"].index)\n",
        "# dataframe para salario\n",
        "df_fin_s = df_fin.drop(df_fin[df_fin.TCS == \"C\"].index)\n",
        "df_fin_s = df_fin_s.drop(df_fin_s[df_fin_s.TCS == \"T\"].index)\n"
      ],
      "metadata": {
        "id": "TDDG0qFWkJ3V"
      },
      "execution_count": null,
      "outputs": []
    },
    {
      "cell_type": "code",
      "source": [
        "################################################################## TATTOO\n",
        "\n",
        "# Separa a soma por mês em um novo dataframe:\n",
        "df_resumo_t = df_fin_t.groupby(pd.Grouper(freq='M')).sum()\n",
        "df_resumo_t.columns = ['Somatório','Ganho','Preju']\n",
        "\n",
        "# Coluna de valores cumulativos:\n",
        "df_resumo_t['Cumulativo'] = df_resumo_t['Somatório'].cumsum()\n",
        "\n",
        "# Data (string):\n",
        "df_resumo_t['ano'] = df_resumo_t.index.strftime('%Y').astype(str)\n",
        "df_resumo_t['mes'] = df_resumo_t.index.strftime('%m').astype(str)\n",
        "df_resumo_t['MesAno'] = df_resumo_t['mes'] + '/' + df_resumo_t['ano']\n",
        "df_resumo_t = df_resumo_t.drop(['ano','mes'], axis=1)\n",
        "\n",
        "################################################################## CAMISETA\n",
        "\n",
        "# Separa a soma por mês em um novo dataframe:\n",
        "df_resumo_c = df_fin_c.groupby(pd.Grouper(freq='M')).sum()\n",
        "df_resumo_c.columns = ['Somatório','Ganho','Preju']\n",
        "\n",
        "# Coluna de valores cumulativos:\n",
        "df_resumo_c['Cumulativo'] = df_resumo_c['Somatório'].cumsum()\n",
        "\n",
        "# Data (string):\n",
        "df_resumo_c['ano'] = df_resumo_c.index.strftime('%Y').astype(str)\n",
        "df_resumo_c['mes'] = df_resumo_c.index.strftime('%m').astype(str)\n",
        "df_resumo_c['MesAno'] = df_resumo_c['mes'] + '/' + df_resumo_c['ano']\n",
        "df_resumo_c = df_resumo_c.drop(['ano','mes'], axis=1)\n",
        "\n",
        "################################################################## SALARIO\n",
        "\n",
        "# Separa a soma por mês em um novo dataframe:\n",
        "df_resumo_s = df_fin_s.groupby(pd.Grouper(freq='M')).sum()\n",
        "df_resumo_s.columns = ['Somatório','Ganho','Preju']\n",
        "\n",
        "# Coluna de valores cumulativos:\n",
        "df_resumo_s['Cumulativo'] = df_resumo_s['Somatório'].cumsum()\n",
        "\n",
        "# Data (string):\n",
        "df_resumo_s['ano'] = df_resumo_s.index.strftime('%Y').astype(str)\n",
        "df_resumo_s['mes'] = df_resumo_s.index.strftime('%m').astype(str)\n",
        "df_resumo_s['MesAno'] = df_resumo_s['mes'] + '/' + df_resumo_s['ano']\n",
        "df_resumo_s = df_resumo_s.drop(['ano','mes'], axis=1)\n",
        "\n",
        "################################################################## GERAL\n",
        "\n",
        "# Separa a soma por mês em um novo dataframe:\n",
        "df_resumo = df_fin.groupby(pd.Grouper(freq='M')).sum()\n",
        "df_resumo.columns = ['Somatório','Ganho','Preju']\n",
        "\n",
        "# Coluna de valores cumulativos:\n",
        "df_resumo['Cumulativo'] = df_resumo['Somatório'].cumsum()\n",
        "\n",
        "# Data (string):\n",
        "df_resumo['ano'] = df_resumo.index.strftime('%Y').astype(str)\n",
        "df_resumo['mes'] = df_resumo.index.strftime('%m').astype(str)\n",
        "df_resumo['MesAno'] = df_resumo['mes'] + '/' + df_resumo['ano']\n",
        "df_resumo = df_resumo.drop(['ano','mes'], axis=1)\n",
        "\n"
      ],
      "metadata": {
        "id": "0fDxz38tcrCF"
      },
      "execution_count": null,
      "outputs": []
    },
    {
      "cell_type": "code",
      "source": [
        "# Limitando os dataframes ao dia de hoje:\n",
        "df_resumo_t = df_resumo_t.drop(df_resumo_t[df_resumo_t.index > pd.to_datetime(date.today())].index)\n",
        "df_resumo_c = df_resumo_c.drop(df_resumo_c[df_resumo_c.index > pd.to_datetime(date.today())].index)\n",
        "df_resumo_s = df_resumo_s.drop(df_resumo_s[df_resumo_s.index > pd.to_datetime(date.today())].index)\n",
        "df_resumo = df_resumo.drop(df_resumo[df_resumo.index > pd.to_datetime(date.today())].index)"
      ],
      "metadata": {
        "id": "jR57RuyxoCwt"
      },
      "execution_count": null,
      "outputs": []
    },
    {
      "cell_type": "markdown",
      "source": [
        "##**GERAÇÃO DE GRÁFICOS E TABELAS**"
      ],
      "metadata": {
        "id": "KYFXCW_6OPv-"
      }
    },
    {
      "cell_type": "markdown",
      "source": [
        "### **GERAÇÃO DE GRÁFICOS**"
      ],
      "metadata": {
        "id": "FxJQe-eKvG_F"
      }
    },
    {
      "cell_type": "code",
      "source": [
        "################################## CAMISETAS ##################################\n",
        "\n",
        "x = np.arange(len(df_resumo_c['MesAno']))  # the label locations\n",
        "width = 0.5  # the width of the bars\n",
        "\n",
        "for n in df_resumo_c.columns:\n",
        "  if ((n == 'MesAno')|(n == 'Preju')):\n",
        "    pass\n",
        "  elif n == 'Somatório':\n",
        "    with plt.style.context('Solarize_Light2'):\n",
        "      # plt.plot(df_resumo_c['MesAno'], df_resumo_c[n] , linewidth=2.0)\n",
        "      colors = [\"tomato\" if i < 0 else \"yellowgreen\" for i in df_resumo_c['Somatório']]\n",
        "      plt.bar(x - width/2, df_resumo_c[n], width,color=colors, label=n)\n",
        "      plt.title('Acompanhamento Financeiro - Camisetas')\n",
        "      plt.xlabel('Mês', fontsize=14)\n",
        "      plt.xticks(rotation = 45) # Rotates X-Axis Ticks by 45-degrees\n",
        "      plt.ylabel( n , fontsize=14)\n",
        "      plt.xticks(x, list(df_resumo_c['MesAno']))  # passo de tempo\n",
        "      addlabels(df_resumo_c['MesAno'], df_resumo_c[n])\n",
        "    plt.savefig(os.path.join( '/content/drive/MyDrive/Controle_Financeiro_Geral/Imagens/Camisetas' , n  + '_Graph'), dpi=300, bbox_inches='tight')\n",
        "    plt.show()\n",
        "\n",
        "  elif n == 'Cumulativo':\n",
        "    with plt.style.context('Solarize_Light2'):\n",
        "      plt.plot(df_resumo_c['MesAno'], df_resumo_c[n] , 'm', linewidth=2.0)\n",
        "      # plt.bar(x - width/2, df_resumo_c[n], width, label=n)\n",
        "      plt.title('Acompanhamento Financeiro - Camisetas')\n",
        "      plt.xlabel('Mês', fontsize=14)\n",
        "      plt.xticks(rotation = 45) # Rotates X-Axis Ticks by 45-degrees\n",
        "      plt.ylabel( n , fontsize=14)\n",
        "      plt.xticks(x, list(df_resumo_c['MesAno']))  # passo de tempo\n",
        "      addlabels(df_resumo_c['MesAno'], df_resumo_c[n])\n",
        "    plt.savefig(os.path.join( '/content/drive/MyDrive/Controle_Financeiro_Geral/Imagens/Camisetas' , n  + '_Graph'), dpi=300, bbox_inches='tight')\n",
        "    plt.show()\n",
        "  \n",
        "  elif n == 'Ganho':\n",
        "    with plt.style.context('Solarize_Light2'):\n",
        "      # plt.plot(df_resumo_c['MesAno'], df_resumo_c[n] , linewidth=2.0)\n",
        "      colorsg = [\"tomato\" if i < 0 else \"yellowgreen\" for i in df_resumo_c['Ganho']]\n",
        "      colorsp = [\"tomato\" if i < 0 else \"yellowgreen\" for i in df_resumo_c['Preju']]\n",
        "      plt.bar(x - width/2, df_resumo_c['Ganho'], width,color=colorsg, label=n)\n",
        "      plt.bar(x - width/2, df_resumo_c['Preju'], width,color=colorsp, label=n)\n",
        "      plt.title('Acompanhamento Financeiro - Camisetas')\n",
        "      plt.xlabel('Mês', fontsize=14)\n",
        "      plt.xticks(rotation = 45) # Rotates X-Axis Ticks by 45-degrees\n",
        "      plt.ylabel( 'Ganhos e Perdas' , fontsize=14)\n",
        "      plt.xticks(x, list(df_resumo_c['MesAno']))  # passo de tempo\n",
        "      addlabels(df_resumo_c['MesAno'], df_resumo_c['Ganho'])\n",
        "      addlabels(df_resumo_c['MesAno'], df_resumo_c['Preju'])\n",
        "    plt.savefig(os.path.join( '/content/drive/MyDrive/Controle_Financeiro_Geral/Imagens/Camisetas' , n  + '_Preju_Graph'), dpi=300, bbox_inches='tight')\n",
        "    plt.show()\n",
        "\n",
        "\n",
        "################################## TATUAGENS ##################################\n",
        "\n",
        "x = np.arange(len(df_resumo_t['MesAno']))  # the label locations\n",
        "width = 0.5  # the width of the bars\n",
        "\n",
        "for n in df_resumo_t.columns:\n",
        "  if ((n == 'MesAno')|(n == 'Preju')):\n",
        "    pass\n",
        "  elif n == 'Somatório':\n",
        "    with plt.style.context('Solarize_Light2'):\n",
        "      # plt.plot(df_resumo_t['MesAno'], df_resumo_t[n] , linewidth=2.0)\n",
        "      colors = [\"tomato\" if i < 0 else \"yellowgreen\" for i in df_resumo_t['Somatório']]\n",
        "      plt.bar(x - width/2, df_resumo_t[n], width,color=colors, label=n)\n",
        "      plt.title('Acompanhamento Financeiro - Tatuagens')\n",
        "      plt.xlabel('Mês', fontsize=14)\n",
        "      plt.xticks(rotation = 45) # Rotates X-Axis Ticks by 45-degrees\n",
        "      plt.ylabel( n , fontsize=14)\n",
        "      plt.xticks(x, list(df_resumo_t['MesAno']))  # passo de tempo\n",
        "      addlabels(df_resumo_t['MesAno'], df_resumo_t[n])\n",
        "    plt.savefig(os.path.join( '/content/drive/MyDrive/Controle_Financeiro_Geral/Imagens/Tattoos' , n  + '_Graph'), dpi=300, bbox_inches='tight')\n",
        "    plt.show()\n",
        "\n",
        "  elif n == 'Cumulativo':\n",
        "    with plt.style.context('Solarize_Light2'):\n",
        "      plt.plot(df_resumo_t['MesAno'], df_resumo_t[n] , 'm', linewidth=2.0)\n",
        "      # plt.bar(x - width/2, df_resumo_t[n], width, label=n)\n",
        "      plt.title('Acompanhamento Financeiro - Tatuagens')\n",
        "      plt.xlabel('Mês', fontsize=14)\n",
        "      plt.xticks(rotation = 45) # Rotates X-Axis Ticks by 45-degrees\n",
        "      plt.ylabel( n , fontsize=14)\n",
        "      plt.xticks(x, list(df_resumo_t['MesAno']))  # passo de tempo\n",
        "      addlabels(df_resumo_t['MesAno'], df_resumo_t[n])\n",
        "    plt.savefig(os.path.join( '/content/drive/MyDrive/Controle_Financeiro_Geral/Imagens/Tattoos' , n  + '_Graph'), dpi=300, bbox_inches='tight')\n",
        "    plt.show()\n",
        "  \n",
        "  elif n == 'Ganho':\n",
        "    with plt.style.context('Solarize_Light2'):\n",
        "      # plt.plot(df_resumo_t['MesAno'], df_resumo_t[n] , linewidth=2.0)\n",
        "      colorsg = [\"tomato\" if i < 0 else \"yellowgreen\" for i in df_resumo_t['Ganho']]\n",
        "      colorsp = [\"tomato\" if i < 0 else \"yellowgreen\" for i in df_resumo_t['Preju']]\n",
        "      plt.bar(x - width/2, df_resumo_t['Ganho'], width,color=colorsg, label=n)\n",
        "      plt.bar(x - width/2, df_resumo_t['Preju'], width,color=colorsp, label=n)\n",
        "      plt.title('Acompanhamento Financeiro - Tatuagens')\n",
        "      plt.xlabel('Mês', fontsize=14)\n",
        "      plt.xticks(rotation = 45) # Rotates X-Axis Ticks by 45-degrees\n",
        "      plt.ylabel( 'Ganhos e Perdas' , fontsize=14)\n",
        "      plt.xticks(x, list(df_resumo_t['MesAno']))  # passo de tempo\n",
        "      addlabels(df_resumo_t['MesAno'], df_resumo_t['Ganho'])\n",
        "      addlabels(df_resumo_t['MesAno'], df_resumo_t['Preju'])\n",
        "    plt.savefig(os.path.join( '/content/drive/MyDrive/Controle_Financeiro_Geral/Imagens/Tattoos' , n  + '_Preju_Graph'), dpi=300, bbox_inches='tight')\n",
        "    plt.show()\n",
        "\n",
        "\n",
        "\n",
        "################################## SALÁRIO ##################################\n",
        "\n",
        "x = np.arange(len(df_resumo_s['MesAno']))  # the label locations\n",
        "width = 0.5  # the width of the bars\n",
        "\n",
        "for n in df_resumo_s.columns:\n",
        "  if ((n == 'MesAno')|(n == 'Preju')):\n",
        "    pass\n",
        "  elif n == 'Somatório':\n",
        "    with plt.style.context('Solarize_Light2'):\n",
        "      # plt.plot(df_resumo_s['MesAno'], df_resumo_s[n] , linewidth=2.0)\n",
        "      colors = [\"tomato\" if i < 0 else \"yellowgreen\" for i in df_resumo_s['Somatório']]\n",
        "      plt.bar(x - width/2, df_resumo_s[n], width,color=colors, label=n)\n",
        "      plt.title('Acompanhamento Financeiro - Salário')\n",
        "      plt.xlabel('Mês', fontsize=14)\n",
        "      plt.xticks(rotation = 45) # Rotates X-Axis Ticks by 45-degrees\n",
        "      plt.ylabel( n , fontsize=14)\n",
        "      plt.xticks(x, list(df_resumo_s['MesAno']))  # passo de tempo\n",
        "      addlabels(df_resumo_s['MesAno'], df_resumo_s[n])\n",
        "    plt.savefig(os.path.join( '/content/drive/MyDrive/Controle_Financeiro_Geral/Imagens/Salario' , n  + '_Graph'), dpi=300, bbox_inches='tight')\n",
        "    plt.show()\n",
        "\n",
        "  elif n == 'Cumulativo':\n",
        "    with plt.style.context('Solarize_Light2'):\n",
        "      plt.plot(df_resumo_s['MesAno'], df_resumo_s[n] , 'm', linewidth=2.0)\n",
        "      # plt.bar(x - width/2, df_resumo_s[n], width, label=n)\n",
        "      plt.title('Acompanhamento Financeiro - Salário')\n",
        "      plt.xlabel('Mês', fontsize=14)\n",
        "      plt.xticks(rotation = 45) # Rotates X-Axis Ticks by 45-degrees\n",
        "      plt.ylabel( n , fontsize=14)\n",
        "      plt.xticks(x, list(df_resumo_s['MesAno']))  # passo de tempo\n",
        "      addlabels(df_resumo_s['MesAno'], df_resumo_s[n])\n",
        "    plt.savefig(os.path.join( '/content/drive/MyDrive/Controle_Financeiro_Geral/Imagens/Salario' , n  + '_Graph'), dpi=300, bbox_inches='tight')\n",
        "    plt.show()\n",
        "  \n",
        "  elif n == 'Ganho':\n",
        "    with plt.style.context('Solarize_Light2'):\n",
        "      # plt.plot(df_resumo_s['MesAno'], df_resumo_s[n] , linewidth=2.0)\n",
        "      colorsg = [\"tomato\" if i < 0 else \"yellowgreen\" for i in df_resumo_s['Ganho']]\n",
        "      colorsp = [\"tomato\" if i < 0 else \"yellowgreen\" for i in df_resumo_s['Preju']]\n",
        "      plt.bar(x - width/2, df_resumo_s['Ganho'], width,color=colorsg, label=n)\n",
        "      plt.bar(x - width/2, df_resumo_s['Preju'], width,color=colorsp, label=n)\n",
        "      plt.title('Acompanhamento Financeiro - Salário')\n",
        "      plt.xlabel('Mês', fontsize=14)\n",
        "      plt.xticks(rotation = 45) # Rotates X-Axis Ticks by 45-degrees\n",
        "      plt.ylabel( 'Ganhos e Perdas' , fontsize=14)\n",
        "      plt.xticks(x, list(df_resumo_s['MesAno']))  # passo de tempo\n",
        "      addlabels(df_resumo_s['MesAno'], df_resumo_s['Ganho'])\n",
        "      addlabels(df_resumo_s['MesAno'], df_resumo_s['Preju'])\n",
        "    plt.savefig(os.path.join( '/content/drive/MyDrive/Controle_Financeiro_Geral/Imagens/Salario' , n  + '_Preju_Graph'), dpi=300, bbox_inches='tight')\n",
        "    plt.show()\n",
        "\n",
        "\n",
        "################################## GERAL ##################################\n",
        "\n",
        "x = np.arange(len(df_resumo['MesAno']))  # the label locations\n",
        "width = 0.5  # the width of the bars\n",
        "\n",
        "for n in df_resumo.columns:\n",
        "  if ((n == 'MesAno')|(n == 'Preju')):\n",
        "    pass\n",
        "  elif n == 'Somatório':\n",
        "    with plt.style.context('Solarize_Light2'):\n",
        "      # plt.plot(df_resumo['MesAno'], df_resumo[n] , linewidth=2.0)\n",
        "      colors = [\"tomato\" if i < 0 else \"yellowgreen\" for i in df_resumo['Somatório']]\n",
        "      plt.bar(x - width/2, df_resumo[n], width,color=colors, label=n)\n",
        "      plt.title('Acompanhamento Financeiro - Geral')\n",
        "      plt.xlabel('Mês', fontsize=14)\n",
        "      plt.xticks(rotation = 45) # Rotates X-Axis Ticks by 45-degrees\n",
        "      plt.ylabel( n , fontsize=14)\n",
        "      plt.xticks(x, list(df_resumo['MesAno']))  # passo de tempo\n",
        "      addlabels(df_resumo['MesAno'], df_resumo[n])\n",
        "    plt.savefig(os.path.join( '/content/drive/MyDrive/Controle_Financeiro_Geral/Imagens/Geral' , n  + '_Graph'), dpi=300, bbox_inches='tight')\n",
        "    plt.show()\n",
        "\n",
        "  elif n == 'Cumulativo':\n",
        "    with plt.style.context('Solarize_Light2'):\n",
        "      plt.plot(df_resumo['MesAno'], df_resumo[n] , 'm', linewidth=2.0)\n",
        "      # plt.bar(x - width/2, df_resumo[n], width, label=n)\n",
        "      plt.title('Acompanhamento Financeiro - Geral')\n",
        "      plt.xlabel('Mês', fontsize=14)\n",
        "      plt.xticks(rotation = 45) # Rotates X-Axis Ticks by 45-degrees\n",
        "      plt.ylabel( n , fontsize=14)\n",
        "      plt.xticks(x, list(df_resumo['MesAno']))  # passo de tempo\n",
        "      addlabels(df_resumo['MesAno'], df_resumo[n])\n",
        "    plt.savefig(os.path.join( '/content/drive/MyDrive/Controle_Financeiro_Geral/Imagens/Geral' , n  + '_Graph'), dpi=300, bbox_inches='tight')\n",
        "    plt.show()\n",
        "  \n",
        "  elif n == 'Ganho':\n",
        "    with plt.style.context('Solarize_Light2'):\n",
        "      # plt.plot(df_resumo['MesAno'], df_resumo[n] , linewidth=2.0)\n",
        "      colorsg = [\"tomato\" if i < 0 else \"yellowgreen\" for i in df_resumo['Ganho']]\n",
        "      colorsp = [\"tomato\" if i < 0 else \"yellowgreen\" for i in df_resumo['Preju']]\n",
        "      plt.bar(x - width/2, df_resumo['Ganho'], width,color=colorsg, label=n)\n",
        "      plt.bar(x - width/2, df_resumo['Preju'], width,color=colorsp, label=n)\n",
        "      plt.title('Acompanhamento Financeiro - Geral')\n",
        "      plt.xlabel('Mês', fontsize=14)\n",
        "      plt.xticks(rotation = 45) # Rotates X-Axis Ticks by 45-degrees\n",
        "      plt.ylabel( 'Ganhos e Perdas' , fontsize=14)\n",
        "      plt.xticks(x, list(df_resumo['MesAno']))  # passo de tempo\n",
        "      addlabels(df_resumo['MesAno'], df_resumo['Ganho'])\n",
        "      addlabels(df_resumo['MesAno'], df_resumo['Preju'])\n",
        "    plt.savefig(os.path.join( '/content/drive/MyDrive/Controle_Financeiro_Geral/Imagens/Geral' , n  + '_Preju_Graph'), dpi=300, bbox_inches='tight')\n",
        "    plt.show()\n",
        "\n",
        "\n",
        "clear_output()"
      ],
      "metadata": {
        "id": "JlGdyJ9LkI-_"
      },
      "execution_count": null,
      "outputs": []
    },
    {
      "cell_type": "markdown",
      "source": [
        "### **GERAÇÃO DE TABELAS**"
      ],
      "metadata": {
        "id": "nM1WdYUOvNjQ"
      }
    },
    {
      "cell_type": "code",
      "source": [
        "df_resumo_fancy = df_resumo.copy()\n",
        "df_resumo_fancy_t = df_resumo_t.copy()\n",
        "df_resumo_fancy_c = df_resumo_c.copy()\n",
        "df_resumo_fancy_s = df_resumo_s.copy()"
      ],
      "metadata": {
        "id": "ilwldzAoqO4r"
      },
      "execution_count": null,
      "outputs": []
    },
    {
      "cell_type": "code",
      "source": [
        "# Set CSS properties for th elements in dataframe\n",
        "th_props = [\n",
        "  ('font-size', '16px'),\n",
        "  ('text-align', 'center'),\n",
        "  ('font-weight', 'bold'),\n",
        "  ('color', 'black'),\n",
        "  ('background-color', '#f7f7f9')\n",
        "  ]\n",
        "\n",
        "# Set CSS properties for td elements in dataframe\n",
        "td_props = [\n",
        "  ('font-size', '16px')\n",
        "  ]\n",
        "\n",
        "# Set table styles\n",
        "styles = [\n",
        "  dict(selector=\"th\", props=th_props),\n",
        "  dict(selector=\"td\", props=td_props)\n",
        "  ]\n",
        "\n",
        "cm = sns.light_palette(\"green\", as_cmap=True)"
      ],
      "metadata": {
        "id": "AgEFVoUlPxlq"
      },
      "execution_count": null,
      "outputs": []
    },
    {
      "cell_type": "code",
      "source": [
        "dfi.export(df_resumo_fancy, \"/content/drive/MyDrive/Controle_Financeiro_Geral/Imagens/Geral/tabela.png\",table_conversion=\"matplotlib\")\n",
        "dfi.export(df_resumo_fancy_t, \"/content/drive/MyDrive/Controle_Financeiro_Geral/Imagens/Tattoos/tabela.png\",table_conversion=\"matplotlib\")\n",
        "dfi.export(df_resumo_fancy_c, \"/content/drive/MyDrive/Controle_Financeiro_Geral/Imagens/Camisetas/tabela.png\",table_conversion=\"matplotlib\")\n",
        "dfi.export(df_resumo_fancy_s, \"/content/drive/MyDrive/Controle_Financeiro_Geral/Imagens/Salario/tabela.png\",table_conversion=\"matplotlib\")\n",
        "clear_output()"
      ],
      "metadata": {
        "id": "GLK3De-dqIts"
      },
      "execution_count": null,
      "outputs": []
    },
    {
      "cell_type": "markdown",
      "source": [
        "## **Plot de gráficos e tabelas:**"
      ],
      "metadata": {
        "id": "zjklAiaou9W2"
      }
    },
    {
      "cell_type": "code",
      "source": [
        "%matplotlib inline\n",
        "plotagem_graficos('g')\n",
        "plotagem_graficos('t')\n",
        "plotagem_graficos('c')\n",
        "plotagem_graficos('s')"
      ],
      "metadata": {
        "id": "T-c3Fi-etBsB"
      },
      "execution_count": null,
      "outputs": []
    },
    {
      "cell_type": "code",
      "source": [
        "################################ GERAL\n",
        "(df_resumo_fancy.style\n",
        "  .background_gradient(cmap=cm, subset=['Somatório','Cumulativo'])\n",
        "  .hide_index()\n",
        "  .set_caption('Informações Relevantes - Ganho e Custos Gerais')\n",
        "  .format(precision=2)\n",
        "  .set_table_styles(styles))\n",
        "\n",
        "\n"
      ],
      "metadata": {
        "id": "8FVM91B8a36_"
      },
      "execution_count": null,
      "outputs": []
    },
    {
      "cell_type": "code",
      "source": [
        "################################ TATTOO\n",
        "(df_resumo_fancy_t.style\n",
        "  .background_gradient(cmap=cm, subset=['Somatório','Cumulativo'])\n",
        "  .hide_index()\n",
        "  .set_caption('Informações Relevantes - Ganho e Custos das Tattoos')\n",
        "  .format(precision=2)\n",
        "  .set_table_styles(styles))"
      ],
      "metadata": {
        "id": "0YaiRUzOq9XT"
      },
      "execution_count": null,
      "outputs": []
    },
    {
      "cell_type": "code",
      "source": [
        "################################ CAMISETAS\n",
        "(df_resumo_fancy_c.style\n",
        "  .background_gradient(cmap=cm, subset=['Somatório','Cumulativo'])\n",
        "  .hide_index()\n",
        "  .set_caption('Informações Relevantes - Ganho e Custos das Camisetas')\n",
        "  .format(precision=2)\n",
        "  .set_table_styles(styles))"
      ],
      "metadata": {
        "id": "COcWOGuOq9zc"
      },
      "execution_count": null,
      "outputs": []
    },
    {
      "cell_type": "code",
      "source": [
        "################################ SALARIO\n",
        "(df_resumo_fancy_s.style\n",
        "  .background_gradient(cmap=cm, subset=['Somatório','Cumulativo'])\n",
        "  .hide_index()\n",
        "  .set_caption('Informações Relevantes - Ganho e Custos do Salário')\n",
        "  .format(precision=2)\n",
        "  .set_table_styles(styles))"
      ],
      "metadata": {
        "id": "kY7Gxw85q9_D"
      },
      "execution_count": null,
      "outputs": []
    },
    {
      "cell_type": "markdown",
      "source": [
        "##**Criação de Dashboard Standalone**"
      ],
      "metadata": {
        "id": "CKuqsPFHsU-J"
      }
    },
    {
      "cell_type": "code",
      "source": [
        "!pip install jupyter-dash==0.3.0\n",
        "!pip install dash==2.0.0\n",
        "!pip install dash-cytoscape\n",
        "clear_output()"
      ],
      "metadata": {
        "id": "EnjtuApOshA7"
      },
      "execution_count": null,
      "outputs": []
    },
    {
      "cell_type": "code",
      "source": [
        "df_resumo['ind'] = 'Geral'\n",
        "df_resumo_t['ind'] = 'Tattoo'\n",
        "df_resumo_c['ind'] = 'Camiseta'\n",
        "df_resumo_s['ind'] = 'Salário'\n",
        "\n",
        "df_resumo_tot = pd.concat([df_resumo, df_resumo_t, df_resumo_c, df_resumo_s])"
      ],
      "metadata": {
        "id": "jxnmiDCX-mGT"
      },
      "execution_count": null,
      "outputs": []
    },
    {
      "cell_type": "code",
      "source": [
        "df_resumo_tot"
      ],
      "metadata": {
        "id": "3I5EZ9OX_anX"
      },
      "execution_count": null,
      "outputs": []
    },
    {
      "cell_type": "code",
      "source": [
        "from jupyter_dash import JupyterDash  # pip install dash\n",
        "import dash_cytoscape as cyto  # pip install dash-cytoscape==0.2.0 or higher\n",
        "import dash_html_components as html\n",
        "import dash_core_components as dcc\n",
        "from dash.dependencies import Output, Input\n",
        "import pandas as pd  # pip install pandas\n",
        "import plotly.express as px\n",
        "import math\n",
        "from dash import no_update\n",
        "\n",
        "\n",
        "import plotly.offline as pyo\n",
        "import plotly.graph_objs as go\n",
        "\n",
        "\n",
        "\n",
        "external_stylesheets = ['https://codepen.io/chriddyp/pen/bWLwgP.css']\n",
        "app = JupyterDash(__name__, external_stylesheets=external_stylesheets)\n",
        "\n",
        "\n",
        "df = df_resumo_tot.copy()\n",
        "\n",
        "# criando uma variável para armazenar os estados, para o usuario poder utilizar o dropdown e trocar de estado\n",
        "analysis_options = []\n",
        "for analysis in df['ind'].unique():\n",
        "    analysis_options.append({'label': analysis, 'value': analysis})\n",
        "\n",
        "\n",
        "# Criando o layout\n",
        "app.layout = html.Div([\n",
        "    # cabeçalho\n",
        "    html.Div([\n",
        "        # Titulo\n",
        "        html.H1(\"Dados do Acompanhamento Financeiro Pessoal\",\n",
        "                style = {'textAlign': 'center', # alinhando o titulo ao centro\n",
        "                         'fontFamily': 'Roboto', # alterando a fonte do H1\n",
        "                         'paddingTop': 20}), # adicionando um padding no topo\n",
        "        # Aviso\n",
        "        html.P(\"Selecione uma Análise:\",\n",
        "              style = {'fontFamily': 'Roboto'}),\n",
        "        # Dropdown\n",
        "        html.Div([\n",
        "            dcc.Dropdown(id = 'analysis-picker', # id do dropdown\n",
        "                     value = 'Geral', # seta o valor inicial,\n",
        "                     options = analysis_options, # as opções que vão aparecer no dropdown\n",
        "                     clearable = False, # permite remover o valor (acho importante manter false para evitar problemas)\n",
        "                     )\n",
        "        ], style = {'width': '33%',\n",
        "                            'display': 'inline-block'})\n",
        "    ]),\n",
        "\n",
        "    # Grafico de dispersão\n",
        "    html.Div([\n",
        "        # Titulo do gráfico de dispersão\n",
        "        html.H3(id='titulo-scatter',\n",
        "                style={'textAlign': 'center',\n",
        "                       'fontFamily' : \"Roboto\",\n",
        "                       'paddingTop': 15\n",
        "                      }\n",
        "               ),\n",
        "        # O gráfico de dispersão\n",
        "        dcc.Graph(id = 'scatter-plot')\n",
        "         ], style = {'paddingLeft': '0%',\n",
        "                     'padingRight': '0%',\n",
        "                     'width': '32%',\n",
        "                     'display': 'inline-block'}\n",
        "    ),\n",
        "\n",
        "    # Grafico de barras 1\n",
        "    html.Div([\n",
        "        # Titulo do gráfico de dispersão\n",
        "        html.H3(id = 'titulo-barplot',\n",
        "               style = {'textAlign': 'center',\n",
        "                        'fontFamily': 'Roboto',\n",
        "                        'paddingTop': 10\n",
        "                       }\n",
        "               ),\n",
        "        # Gráfico de barras 1\n",
        "        dcc.Graph(id = 'bar-plot')\n",
        "    ], style = {'paddingLeft': '0%',\n",
        "                     'padingRight': '0%',\n",
        "                     'width': '32%',\n",
        "                     'display': 'inline-block'}\n",
        "    ),\n",
        " \n",
        "    # Grafico de barras 2\n",
        "    html.Div([\n",
        "        # Titulo do gráfico de dispersão\n",
        "        html.H3(id = 'titulo-barplot1',\n",
        "               style = {'textAlign': 'center',\n",
        "                        'fontFamily': 'Roboto',\n",
        "                        'paddingTop': 10\n",
        "                       }\n",
        "               ),\n",
        "        # Gráfico de barras 2\n",
        "        dcc.Graph(id = 'bar-plot1')\n",
        "    ], style = {'paddingLeft': '0%',\n",
        "                     'padingRight': '0%',\n",
        "                     'width': '32%',\n",
        "                     'display': 'inline-block'}\n",
        "    ),\n",
        " \n",
        "    # Referencia\n",
        "    html.Div([\n",
        "        html.Label([\"Fonte: \",\n",
        "                html.A('andersonmdcanteli.github.io',\n",
        "                       href='https://andersonmdcanteli.github.io/Dashboards-Parte-3/#dashboards-finais'),\n",
        "                        \". Acesso em 25/07/2022\"\n",
        "                   ]),\n",
        "        html.Label([\n",
        "            html.P([\"Desenvolvido por Luca Martins (lucammarini@gmail.com)\"])\n",
        "        ])\n",
        "            ], style={'textAlign': 'center',\n",
        "                       'fontFamily' : \"Roboto\",\n",
        "                       'paddingTop': 15\n",
        "                      }\n",
        "    )\n",
        "\n",
        "\n",
        "])\n",
        "\n",
        "########################################################################################################\n",
        "\n",
        "# Grafico de barras 1\n",
        "@app.callback(Output('bar-plot', 'figure'),\n",
        "              [Input('analysis-picker', 'value')])\n",
        "def update_bar_plot(selected_analysis):\n",
        "\n",
        "    df_aux = df[df['ind'] == selected_analysis] # data frame filtrado baseado no selected_analysis\n",
        "    # df_aux.reset_index(drop=True, inplace=True) # resetando o indice para facilitar a vida\n",
        "    traco = []\n",
        "    traco.append(go.Bar(\n",
        "            x = df_aux['MesAno'], # os dados do eixo x\n",
        "            y = df_aux['Ganho'], # dados do eio y\n",
        "            marker = {'color':'#32CD32'},\n",
        "            text = round(df_aux['Ganho'],3),\n",
        "            name = selected_analysis, # nome do bioma\n",
        "            # hovertemplate = ['Total de focos de queimadas: ' + i for i in [str(i) for i in (df_aux['Total'])]],\n",
        "                ))\n",
        "    traco.append(go.Bar(\n",
        "            x = df_aux['MesAno'], # os dados do eixo x\n",
        "            y = df_aux['Preju'], # dados do eio y\n",
        "            marker = {'color':'#A52A2A'},\n",
        "            text = round(df_aux['Preju'],3),\n",
        "            name = selected_analysis, # nome do bioma\n",
        "            # hovertemplate = ['Total de focos de queimadas: ' + i for i in [str(i) for i in (df_aux['Total'])]],\n",
        "                ))\n",
        "             \n",
        "            \n",
        "    return {\n",
        "            'data': traco,\n",
        "            'layout': go.Layout(\n",
        "                              xaxis = dict(title = 'Data', linecolor='rgba(0,0,0,1)', tickmode = 'array', tickvals = df_aux['MesAno'], ticktext = df_aux['MesAno']), # adicionando nome eo eixo x, barra (y=0) na cor preta, e fixando o ano abaixo de todas as barras\n",
        "                              yaxis = dict(title = 'R$', linecolor='rgba(0,0,0,1)', tickformat=False), # adicionando nome no eixo y, passando uma linha preta em x = 0, e removendo a formatação padrão dos ticks, para que não apareça o K\n",
        "                              showlegend=False, # adicionando a legenda\n",
        "                              barmode='overlay',\n",
        "                              hoverlabel=dict(bgcolor=\"white\", # alterando a cor de fundo do hover\n",
        "                                                font_size=16, # alterando o tamanho da letra no hover\n",
        "                                                font_family=\"Roboto\") # alterando a fonte do hover\n",
        "                                )\n",
        "                }\n",
        "\n",
        "\n",
        "# Titulo do gráfico de barras 1\n",
        "@app.callback(Output('titulo-barplot', 'children'),\n",
        "             [Input('analysis-picker', 'value')])\n",
        "def update_titulo_barplot(selected_analysis):\n",
        "    return \"Ganhos e Perdas Mensais: \" + str(selected_analysis)\n",
        "\n",
        "# Grafico de barras 2\n",
        "\n",
        "\n",
        "@app.callback(Output('bar-plot1', 'figure'),\n",
        "              [Input('analysis-picker', 'value')])\n",
        "def update_bar_plot(selected_analysis):\n",
        "\n",
        "    df_aux = df[df['ind'] == selected_analysis] # data frame filtrado baseado no selected_analysis\n",
        "    # df_aux.reset_index(drop=True, inplace=True) # resetando o indice para facilitar a vida\n",
        "    \n",
        "    # cor alternando dependendo do valor (positovo ou negativo):\n",
        "    df_aux['color_bar'] = '#32CD32'\n",
        "    for n in range(0,len(df_aux)):\n",
        "      if df_aux['Somatório'][n] < 0:\n",
        "        df_aux['color_bar'][n] = '#A52A2A'\n",
        "\n",
        "\n",
        "    traco = [go.Bar(\n",
        "            x = df_aux['MesAno'], # os dados do eixo x\n",
        "            y = df_aux['Somatório'], # dados do eio y\n",
        "            marker = {'color': df_aux['color_bar']},\n",
        "            text = round(df_aux['Somatório'],3),\n",
        "            name = selected_analysis, # nome do bioma\n",
        "            # hovertemplate = ['Total de focos de queimadas: ' + i for i in [str(i) for i in (df_aux['Total'])]],\n",
        "                )\n",
        "            ]\n",
        "    return {\n",
        "            'data': traco,\n",
        "            'layout': go.Layout(\n",
        "                              xaxis = dict(title = 'Data', linecolor='rgba(0,0,0,1)', tickmode = 'array', tickvals = df_aux['MesAno'], ticktext = df_aux['MesAno']), # adicionando nome eo eixo x, barra (y=0) na cor preta, e fixando o ano abaixo de todas as barras\n",
        "                              yaxis = dict(title = 'R$', linecolor='rgba(0,0,0,1)', tickformat=False), # adicionando nome no eixo y, passando uma linha preta em x = 0, e removendo a formatação padrão dos ticks, para que não apareça o K\n",
        "                              showlegend=False, # adicionando a legenda\n",
        "                              hoverlabel=dict(bgcolor=\"white\", # alterando a cor de fundo do hover\n",
        "                                                font_size=16, # alterando o tamanho da letra no hover\n",
        "                                                font_family=\"Roboto\") # alterando a fonte do hover\n",
        "                                )\n",
        "                }\n",
        "\n",
        "\n",
        "# Titulo do gráfico de barras 2\n",
        "@app.callback(Output('titulo-barplot1', 'children'),\n",
        "             [Input('analysis-picker', 'value')])\n",
        "def update_titulo_barplot(selected_analysis):\n",
        "    return \"Somatório Mensal: \" + str(selected_analysis)\n",
        "\n",
        "\n",
        "\n",
        "# Grafico de dispersão\n",
        "@app.callback(Output('scatter-plot', 'figure'),\n",
        "              [Input('analysis-picker', 'value')])\n",
        "def update_scatter(selected_analysis):\n",
        "\n",
        "    df_aux = df[df['ind'] == selected_analysis] # data frame filtrado baseado no selected_analysis\n",
        "    df_aux.reset_index(drop=True, inplace=True) # resetando o indice para facilitar a vida\n",
        "\n",
        "    tracos = [] # lista vazia para apendar os traços\n",
        "    tracos.append(go.Scatter(\n",
        "                            x = df_aux['MesAno'], # os dados do eixo x\n",
        "                            y = df_aux['Cumulativo'], # acessando os dados dos meses (dados do eixo y)\n",
        "                            mode = 'lines+markers', # define o tipo de gráfico, neste caso vai ter linhas e marcadores\n",
        "                            name = str(df_aux['MesAno']), # adiciono o nome do traço\n",
        "                             \n",
        "                            # hovertemplate = df_aux.columns.values[1:13] + ' de ' + str(df_aux['Ano'][i]) + '<br>nº de focos: '\n",
        "                            # + [str(i) for i in list(df_aux.loc[i][1:13])] , # alterando o template do hover\n",
        "        ))\n",
        "    return {\n",
        "        'data': tracos,\n",
        "        'layout': go.Layout(\n",
        "                           showlegend=False, # garante que a legenda será mostrada\n",
        "                           hovermode = \"closest\", # garante que o hover irá mostrar os dados do ponto mais próximo a seta do mouse\n",
        "                           hoverlabel=dict(bgcolor=\"white\", # altera a cor de fundo\n",
        "                                            font_size=16, # altera o tamanho da fonte\n",
        "                                            font_family=\"Roboto\"), # altera a fonte de texto\n",
        "                           xaxis = dict(title = 'Data', linecolor='rgba(0,0,0,1)'), # Nome do eixo x / adiciona uma linha preta em y=0\n",
        "                           yaxis = dict(title = 'R$', linecolor='rgba(0,0,0,1)'),\n",
        "                          )\n",
        "    }\n",
        "\n",
        "# Titulo do gráfico de dispersão\n",
        "@app.callback(Output('titulo-scatter', 'children'),\n",
        "             [Input('analysis-picker', 'value')])\n",
        "def update_titulo_scatter(selected_analysis):\n",
        "    return \"Cumulativo ao Mês: \" + str(selected_analysis)\n",
        "\n",
        "\n",
        "\n",
        "app.css.config.serve_locally=True\n",
        "app.scripts.config.serve_locally=True\n",
        "\n",
        "if __name__ =='__main__':\n",
        "    app.run_server(debug=True, port=8051)"
      ],
      "metadata": {
        "id": "Q-paWgM4saCl"
      },
      "execution_count": null,
      "outputs": []
    },
    {
      "cell_type": "markdown",
      "source": [
        "##**FINALIZAÇÃO DO SCRIPT**"
      ],
      "metadata": {
        "id": "Q6tikcusPDPP"
      }
    },
    {
      "cell_type": "code",
      "source": [
        "end_script = time.time()\n",
        "print('Tempo do script {:.2f} segundos'.format((end_script - start_script)))"
      ],
      "metadata": {
        "id": "RrlFMLgyF11m"
      },
      "execution_count": null,
      "outputs": []
    }
  ]
}